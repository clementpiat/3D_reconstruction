{
 "cells": [
  {
   "cell_type": "code",
   "execution_count": 1,
   "metadata": {},
   "outputs": [],
   "source": [
    "import numpy as np\n",
    "from sklearn.metrics import pairwise_distances\n",
    "import matplotlib.pyplot as plt\n",
    "from mpl_toolkits.mplot3d import Axes3D\n",
    "import matplotlib.pyplot as plt\n",
    "from tqdm import tqdm\n",
    "\n",
    "from reconstruct import get_SIFT_keypoints, get_X\n",
    "from utils import read, compute_F\n",
    "from stereo import Stereo"
   ]
  },
  {
   "cell_type": "code",
   "execution_count": 2,
   "metadata": {},
   "outputs": [],
   "source": [
    "def select_X(candidates):\n",
    "    pd = pairwise_distances(candidates)\n",
    "    \n",
    "    ratings = np.sum(1/(pd.mean()/2+pd), axis=1)\n",
    "    return candidates[np.argmax(ratings)]"
   ]
  },
  {
   "cell_type": "code",
   "execution_count": 3,
   "metadata": {},
   "outputs": [],
   "source": [
    "images_number = [i for i in range(27)]\n",
    "n_images = len(images_number)"
   ]
  },
  {
   "cell_type": "code",
   "execution_count": null,
   "metadata": {},
   "outputs": [],
   "source": [
    "images, P, silhouettes = zip(*[read(number) for number in images_number])"
   ]
  },
  {
   "cell_type": "code",
   "execution_count": null,
   "metadata": {},
   "outputs": [],
   "source": [
    "P = np.array(P)\n",
    "silhouettes = np.array(silhouettes)"
   ]
  },
  {
   "cell_type": "code",
   "execution_count": null,
   "metadata": {},
   "outputs": [],
   "source": [
    "F = np.zeros((n_images, n_images, 3, 3))"
   ]
  },
  {
   "cell_type": "code",
   "execution_count": 7,
   "metadata": {},
   "outputs": [],
   "source": [
    "for i in range(n_images):\n",
    "    for j in range(i+1, n_images):\n",
    "        f = compute_F(P[i], P[j])\n",
    "        F[i,j] = f\n",
    "        F[j,i] = f"
   ]
  },
  {
   "cell_type": "code",
   "execution_count": 8,
   "metadata": {},
   "outputs": [],
   "source": [
    "n_keypoints = 40"
   ]
  },
  {
   "cell_type": "code",
   "execution_count": 9,
   "metadata": {},
   "outputs": [],
   "source": [
    "kps = get_SIFT_keypoints(images[0], silhouettes[0], n_keypoints)"
   ]
  },
  {
   "cell_type": "code",
   "execution_count": 10,
   "metadata": {},
   "outputs": [],
   "source": [
    "KP = np.zeros((n_images, n_keypoints, 3))"
   ]
  },
  {
   "cell_type": "code",
   "execution_count": 11,
   "metadata": {},
   "outputs": [],
   "source": [
    "for i, (image, silhouette) in enumerate(zip(images, silhouettes)):\n",
    "    KP[i] = get_SIFT_keypoints(image, silhouette, n_keypoints_min=n_keypoints)[:n_keypoints]"
   ]
  },
  {
   "cell_type": "code",
   "execution_count": 13,
   "metadata": {},
   "outputs": [],
   "source": [
    "X_candidates = np.zeros((n_images, n_keypoints, n_images, 3))"
   ]
  },
  {
   "cell_type": "code",
   "execution_count": 14,
   "metadata": {},
   "outputs": [],
   "source": [
    "stereo = Stereo(silhouettes.shape[2], silhouettes.shape[1])"
   ]
  },
  {
   "cell_type": "code",
   "execution_count": 15,
   "metadata": {
    "collapsed": true,
    "jupyter": {
     "outputs_hidden": true
    }
   },
   "outputs": [
    {
     "name": "stderr",
     "output_type": "stream",
     "text": [
      "  4%|▎         | 1/27 [00:07<03:23,  7.84s/it]/home/rockl33/anaconda3/lib/python3.8/site-packages/scipy/optimize/optimize.py:1166: RuntimeWarning: divide by zero encountered in double_scalars\n",
      "  rhok = 1.0 / (np.dot(yk, sk))\n",
      " 15%|█▍        | 4/27 [01:12<06:51, 17.88s/it]/home/rockl33/anaconda3/lib/python3.8/site-packages/scipy/optimize/optimize.py:1166: RuntimeWarning: divide by zero encountered in double_scalars\n",
      "  rhok = 1.0 / (np.dot(yk, sk))\n",
      " 19%|█▊        | 5/27 [01:40<07:37, 20.81s/it]/home/rockl33/anaconda3/lib/python3.8/site-packages/scipy/optimize/optimize.py:1166: RuntimeWarning: divide by zero encountered in double_scalars\n",
      "  rhok = 1.0 / (np.dot(yk, sk))\n",
      "/home/rockl33/anaconda3/lib/python3.8/site-packages/scipy/optimize/optimize.py:1166: RuntimeWarning: divide by zero encountered in double_scalars\n",
      "  rhok = 1.0 / (np.dot(yk, sk))\n",
      " 22%|██▏       | 6/27 [02:10<08:16, 23.63s/it]/home/rockl33/anaconda3/lib/python3.8/site-packages/scipy/optimize/optimize.py:1166: RuntimeWarning: divide by zero encountered in double_scalars\n",
      "  rhok = 1.0 / (np.dot(yk, sk))\n",
      "/home/rockl33/anaconda3/lib/python3.8/site-packages/scipy/optimize/optimize.py:1166: RuntimeWarning: divide by zero encountered in double_scalars\n",
      "  rhok = 1.0 / (np.dot(yk, sk))\n",
      "/home/rockl33/anaconda3/lib/python3.8/site-packages/scipy/optimize/optimize.py:1166: RuntimeWarning: divide by zero encountered in double_scalars\n",
      "  rhok = 1.0 / (np.dot(yk, sk))\n",
      " 26%|██▌       | 7/27 [02:44<08:59, 26.95s/it]/home/rockl33/anaconda3/lib/python3.8/site-packages/scipy/optimize/optimize.py:1166: RuntimeWarning: divide by zero encountered in double_scalars\n",
      "  rhok = 1.0 / (np.dot(yk, sk))\n",
      "/home/rockl33/anaconda3/lib/python3.8/site-packages/scipy/optimize/optimize.py:1166: RuntimeWarning: divide by zero encountered in double_scalars\n",
      "  rhok = 1.0 / (np.dot(yk, sk))\n",
      "/home/rockl33/anaconda3/lib/python3.8/site-packages/scipy/optimize/optimize.py:1166: RuntimeWarning: divide by zero encountered in double_scalars\n",
      "  rhok = 1.0 / (np.dot(yk, sk))\n",
      "/home/rockl33/anaconda3/lib/python3.8/site-packages/scipy/optimize/optimize.py:1166: RuntimeWarning: divide by zero encountered in double_scalars\n",
      "  rhok = 1.0 / (np.dot(yk, sk))\n",
      " 30%|██▉       | 8/27 [03:19<09:16, 29.28s/it]/home/rockl33/anaconda3/lib/python3.8/site-packages/scipy/optimize/optimize.py:1166: RuntimeWarning: divide by zero encountered in double_scalars\n",
      "  rhok = 1.0 / (np.dot(yk, sk))\n",
      "/home/rockl33/anaconda3/lib/python3.8/site-packages/scipy/optimize/optimize.py:1166: RuntimeWarning: divide by zero encountered in double_scalars\n",
      "  rhok = 1.0 / (np.dot(yk, sk))\n",
      "/home/rockl33/anaconda3/lib/python3.8/site-packages/scipy/optimize/optimize.py:1166: RuntimeWarning: divide by zero encountered in double_scalars\n",
      "  rhok = 1.0 / (np.dot(yk, sk))\n",
      "/home/rockl33/anaconda3/lib/python3.8/site-packages/scipy/optimize/optimize.py:1166: RuntimeWarning: divide by zero encountered in double_scalars\n",
      "  rhok = 1.0 / (np.dot(yk, sk))\n",
      "/home/rockl33/anaconda3/lib/python3.8/site-packages/scipy/optimize/optimize.py:1166: RuntimeWarning: divide by zero encountered in double_scalars\n",
      "  rhok = 1.0 / (np.dot(yk, sk))\n",
      " 33%|███▎      | 9/27 [03:50<08:57, 29.87s/it]/home/rockl33/anaconda3/lib/python3.8/site-packages/scipy/optimize/optimize.py:1166: RuntimeWarning: divide by zero encountered in double_scalars\n",
      "  rhok = 1.0 / (np.dot(yk, sk))\n",
      "/home/rockl33/anaconda3/lib/python3.8/site-packages/scipy/optimize/optimize.py:1166: RuntimeWarning: divide by zero encountered in double_scalars\n",
      "  rhok = 1.0 / (np.dot(yk, sk))\n",
      "/home/rockl33/anaconda3/lib/python3.8/site-packages/scipy/optimize/optimize.py:1166: RuntimeWarning: divide by zero encountered in double_scalars\n",
      "  rhok = 1.0 / (np.dot(yk, sk))\n",
      " 37%|███▋      | 10/27 [04:24<08:46, 30.96s/it]/home/rockl33/anaconda3/lib/python3.8/site-packages/scipy/optimize/optimize.py:1166: RuntimeWarning: divide by zero encountered in double_scalars\n",
      "  rhok = 1.0 / (np.dot(yk, sk))\n",
      "/home/rockl33/anaconda3/lib/python3.8/site-packages/scipy/optimize/optimize.py:1166: RuntimeWarning: divide by zero encountered in double_scalars\n",
      "  rhok = 1.0 / (np.dot(yk, sk))\n",
      "/home/rockl33/anaconda3/lib/python3.8/site-packages/scipy/optimize/optimize.py:1166: RuntimeWarning: divide by zero encountered in double_scalars\n",
      "  rhok = 1.0 / (np.dot(yk, sk))\n",
      " 41%|████      | 11/27 [04:57<08:24, 31.53s/it]/home/rockl33/anaconda3/lib/python3.8/site-packages/scipy/optimize/optimize.py:1166: RuntimeWarning: divide by zero encountered in double_scalars\n",
      "  rhok = 1.0 / (np.dot(yk, sk))\n",
      "/home/rockl33/anaconda3/lib/python3.8/site-packages/scipy/optimize/optimize.py:1166: RuntimeWarning: divide by zero encountered in double_scalars\n",
      "  rhok = 1.0 / (np.dot(yk, sk))\n",
      "/home/rockl33/anaconda3/lib/python3.8/site-packages/scipy/optimize/optimize.py:1166: RuntimeWarning: divide by zero encountered in double_scalars\n",
      "  rhok = 1.0 / (np.dot(yk, sk))\n",
      "/home/rockl33/anaconda3/lib/python3.8/site-packages/scipy/optimize/optimize.py:1166: RuntimeWarning: divide by zero encountered in double_scalars\n",
      "  rhok = 1.0 / (np.dot(yk, sk))\n",
      " 44%|████▍     | 12/27 [05:30<07:59, 31.98s/it]/home/rockl33/anaconda3/lib/python3.8/site-packages/scipy/optimize/optimize.py:1166: RuntimeWarning: divide by zero encountered in double_scalars\n",
      "  rhok = 1.0 / (np.dot(yk, sk))\n",
      "/home/rockl33/anaconda3/lib/python3.8/site-packages/scipy/optimize/optimize.py:1166: RuntimeWarning: divide by zero encountered in double_scalars\n",
      "  rhok = 1.0 / (np.dot(yk, sk))\n",
      "/home/rockl33/anaconda3/lib/python3.8/site-packages/scipy/optimize/optimize.py:1166: RuntimeWarning: divide by zero encountered in double_scalars\n",
      "  rhok = 1.0 / (np.dot(yk, sk))\n",
      "/home/rockl33/anaconda3/lib/python3.8/site-packages/scipy/optimize/optimize.py:1166: RuntimeWarning: divide by zero encountered in double_scalars\n",
      "  rhok = 1.0 / (np.dot(yk, sk))\n",
      "/home/rockl33/anaconda3/lib/python3.8/site-packages/scipy/optimize/optimize.py:1166: RuntimeWarning: divide by zero encountered in double_scalars\n",
      "  rhok = 1.0 / (np.dot(yk, sk))\n",
      " 48%|████▊     | 13/27 [06:04<07:36, 32.60s/it]/home/rockl33/anaconda3/lib/python3.8/site-packages/scipy/optimize/optimize.py:1166: RuntimeWarning: divide by zero encountered in double_scalars\n",
      "  rhok = 1.0 / (np.dot(yk, sk))\n",
      "/home/rockl33/anaconda3/lib/python3.8/site-packages/scipy/optimize/optimize.py:1166: RuntimeWarning: divide by zero encountered in double_scalars\n",
      "  rhok = 1.0 / (np.dot(yk, sk))\n",
      " 52%|█████▏    | 14/27 [06:40<07:18, 33.72s/it]/home/rockl33/anaconda3/lib/python3.8/site-packages/scipy/optimize/optimize.py:1166: RuntimeWarning: divide by zero encountered in double_scalars\n",
      "  rhok = 1.0 / (np.dot(yk, sk))\n",
      "/home/rockl33/anaconda3/lib/python3.8/site-packages/scipy/optimize/optimize.py:1166: RuntimeWarning: divide by zero encountered in double_scalars\n",
      "  rhok = 1.0 / (np.dot(yk, sk))\n",
      "/home/rockl33/anaconda3/lib/python3.8/site-packages/scipy/optimize/optimize.py:1166: RuntimeWarning: divide by zero encountered in double_scalars\n",
      "  rhok = 1.0 / (np.dot(yk, sk))\n",
      " 56%|█████▌    | 15/27 [07:17<06:55, 34.60s/it]/home/rockl33/anaconda3/lib/python3.8/site-packages/scipy/optimize/optimize.py:1166: RuntimeWarning: divide by zero encountered in double_scalars\n",
      "  rhok = 1.0 / (np.dot(yk, sk))\n",
      "/home/rockl33/anaconda3/lib/python3.8/site-packages/scipy/optimize/optimize.py:1166: RuntimeWarning: divide by zero encountered in double_scalars\n",
      "  rhok = 1.0 / (np.dot(yk, sk))\n",
      "/home/rockl33/anaconda3/lib/python3.8/site-packages/scipy/optimize/optimize.py:1166: RuntimeWarning: divide by zero encountered in double_scalars\n",
      "  rhok = 1.0 / (np.dot(yk, sk))\n",
      " 59%|█████▉    | 16/27 [08:00<06:48, 37.16s/it]/home/rockl33/anaconda3/lib/python3.8/site-packages/scipy/optimize/optimize.py:1166: RuntimeWarning: divide by zero encountered in double_scalars\n",
      "  rhok = 1.0 / (np.dot(yk, sk))\n",
      "/home/rockl33/anaconda3/lib/python3.8/site-packages/scipy/optimize/optimize.py:1166: RuntimeWarning: divide by zero encountered in double_scalars\n",
      "  rhok = 1.0 / (np.dot(yk, sk))\n",
      "/home/rockl33/anaconda3/lib/python3.8/site-packages/scipy/optimize/optimize.py:1166: RuntimeWarning: divide by zero encountered in double_scalars\n",
      "  rhok = 1.0 / (np.dot(yk, sk))\n",
      "/home/rockl33/anaconda3/lib/python3.8/site-packages/scipy/optimize/optimize.py:1166: RuntimeWarning: divide by zero encountered in double_scalars\n",
      "  rhok = 1.0 / (np.dot(yk, sk))\n",
      "/home/rockl33/anaconda3/lib/python3.8/site-packages/scipy/optimize/optimize.py:1166: RuntimeWarning: divide by zero encountered in double_scalars\n",
      "  rhok = 1.0 / (np.dot(yk, sk))\n",
      "/home/rockl33/anaconda3/lib/python3.8/site-packages/scipy/optimize/optimize.py:1166: RuntimeWarning: divide by zero encountered in double_scalars\n",
      "  rhok = 1.0 / (np.dot(yk, sk))\n",
      " 63%|██████▎   | 17/27 [08:48<06:43, 40.34s/it]/home/rockl33/anaconda3/lib/python3.8/site-packages/scipy/optimize/optimize.py:1166: RuntimeWarning: divide by zero encountered in double_scalars\n",
      "  rhok = 1.0 / (np.dot(yk, sk))\n",
      "/home/rockl33/anaconda3/lib/python3.8/site-packages/scipy/optimize/optimize.py:1166: RuntimeWarning: divide by zero encountered in double_scalars\n",
      "  rhok = 1.0 / (np.dot(yk, sk))\n",
      "/home/rockl33/anaconda3/lib/python3.8/site-packages/scipy/optimize/optimize.py:1166: RuntimeWarning: divide by zero encountered in double_scalars\n",
      "  rhok = 1.0 / (np.dot(yk, sk))\n",
      "/home/rockl33/anaconda3/lib/python3.8/site-packages/scipy/optimize/optimize.py:1166: RuntimeWarning: divide by zero encountered in double_scalars\n",
      "  rhok = 1.0 / (np.dot(yk, sk))\n",
      "/home/rockl33/anaconda3/lib/python3.8/site-packages/scipy/optimize/optimize.py:1166: RuntimeWarning: divide by zero encountered in double_scalars\n",
      "  rhok = 1.0 / (np.dot(yk, sk))\n",
      " 67%|██████▋   | 18/27 [09:29<06:05, 40.56s/it]/home/rockl33/anaconda3/lib/python3.8/site-packages/scipy/optimize/optimize.py:1166: RuntimeWarning: divide by zero encountered in double_scalars\n",
      "  rhok = 1.0 / (np.dot(yk, sk))\n",
      "/home/rockl33/anaconda3/lib/python3.8/site-packages/scipy/optimize/optimize.py:1166: RuntimeWarning: divide by zero encountered in double_scalars\n",
      "  rhok = 1.0 / (np.dot(yk, sk))\n",
      "/home/rockl33/anaconda3/lib/python3.8/site-packages/scipy/optimize/optimize.py:1166: RuntimeWarning: divide by zero encountered in double_scalars\n",
      "  rhok = 1.0 / (np.dot(yk, sk))\n",
      "/home/rockl33/anaconda3/lib/python3.8/site-packages/scipy/optimize/optimize.py:1166: RuntimeWarning: divide by zero encountered in double_scalars\n",
      "  rhok = 1.0 / (np.dot(yk, sk))\n",
      "/home/rockl33/anaconda3/lib/python3.8/site-packages/scipy/optimize/optimize.py:1166: RuntimeWarning: divide by zero encountered in double_scalars\n",
      "  rhok = 1.0 / (np.dot(yk, sk))\n",
      "/home/rockl33/anaconda3/lib/python3.8/site-packages/scipy/optimize/optimize.py:1166: RuntimeWarning: divide by zero encountered in double_scalars\n",
      "  rhok = 1.0 / (np.dot(yk, sk))\n",
      "/home/rockl33/anaconda3/lib/python3.8/site-packages/scipy/optimize/optimize.py:1166: RuntimeWarning: divide by zero encountered in double_scalars\n",
      "  rhok = 1.0 / (np.dot(yk, sk))\n",
      "/home/rockl33/anaconda3/lib/python3.8/site-packages/scipy/optimize/optimize.py:1166: RuntimeWarning: divide by zero encountered in double_scalars\n",
      "  rhok = 1.0 / (np.dot(yk, sk))\n",
      " 70%|███████   | 19/27 [10:13<05:34, 41.79s/it]/home/rockl33/anaconda3/lib/python3.8/site-packages/scipy/optimize/optimize.py:1166: RuntimeWarning: divide by zero encountered in double_scalars\n",
      "  rhok = 1.0 / (np.dot(yk, sk))\n",
      "/home/rockl33/anaconda3/lib/python3.8/site-packages/scipy/optimize/optimize.py:1166: RuntimeWarning: divide by zero encountered in double_scalars\n",
      "  rhok = 1.0 / (np.dot(yk, sk))\n",
      "/home/rockl33/anaconda3/lib/python3.8/site-packages/scipy/optimize/optimize.py:1166: RuntimeWarning: divide by zero encountered in double_scalars\n",
      "  rhok = 1.0 / (np.dot(yk, sk))\n",
      "/home/rockl33/anaconda3/lib/python3.8/site-packages/scipy/optimize/optimize.py:1166: RuntimeWarning: divide by zero encountered in double_scalars\n",
      "  rhok = 1.0 / (np.dot(yk, sk))\n",
      "/home/rockl33/anaconda3/lib/python3.8/site-packages/scipy/optimize/optimize.py:1166: RuntimeWarning: divide by zero encountered in double_scalars\n",
      "  rhok = 1.0 / (np.dot(yk, sk))\n",
      "/home/rockl33/anaconda3/lib/python3.8/site-packages/scipy/optimize/optimize.py:1166: RuntimeWarning: divide by zero encountered in double_scalars\n",
      "  rhok = 1.0 / (np.dot(yk, sk))\n",
      "/home/rockl33/anaconda3/lib/python3.8/site-packages/scipy/optimize/optimize.py:1166: RuntimeWarning: divide by zero encountered in double_scalars\n",
      "  rhok = 1.0 / (np.dot(yk, sk))\n",
      "/home/rockl33/anaconda3/lib/python3.8/site-packages/scipy/optimize/optimize.py:1166: RuntimeWarning: divide by zero encountered in double_scalars\n",
      "  rhok = 1.0 / (np.dot(yk, sk))\n",
      "/home/rockl33/anaconda3/lib/python3.8/site-packages/scipy/optimize/optimize.py:1166: RuntimeWarning: divide by zero encountered in double_scalars\n",
      "  rhok = 1.0 / (np.dot(yk, sk))\n",
      "/home/rockl33/anaconda3/lib/python3.8/site-packages/scipy/optimize/optimize.py:1166: RuntimeWarning: divide by zero encountered in double_scalars\n",
      "  rhok = 1.0 / (np.dot(yk, sk))\n",
      "/home/rockl33/anaconda3/lib/python3.8/site-packages/scipy/optimize/optimize.py:1166: RuntimeWarning: divide by zero encountered in double_scalars\n",
      "  rhok = 1.0 / (np.dot(yk, sk))\n",
      "/home/rockl33/anaconda3/lib/python3.8/site-packages/scipy/optimize/optimize.py:1166: RuntimeWarning: divide by zero encountered in double_scalars\n",
      "  rhok = 1.0 / (np.dot(yk, sk))\n",
      " 74%|███████▍  | 20/27 [10:53<04:48, 41.20s/it]/home/rockl33/anaconda3/lib/python3.8/site-packages/scipy/optimize/optimize.py:1166: RuntimeWarning: divide by zero encountered in double_scalars\n",
      "  rhok = 1.0 / (np.dot(yk, sk))\n",
      "/home/rockl33/anaconda3/lib/python3.8/site-packages/scipy/optimize/optimize.py:1166: RuntimeWarning: divide by zero encountered in double_scalars\n",
      "  rhok = 1.0 / (np.dot(yk, sk))\n",
      "/home/rockl33/anaconda3/lib/python3.8/site-packages/scipy/optimize/optimize.py:1166: RuntimeWarning: divide by zero encountered in double_scalars\n",
      "  rhok = 1.0 / (np.dot(yk, sk))\n",
      "/home/rockl33/anaconda3/lib/python3.8/site-packages/scipy/optimize/optimize.py:1166: RuntimeWarning: divide by zero encountered in double_scalars\n",
      "  rhok = 1.0 / (np.dot(yk, sk))\n",
      "/home/rockl33/anaconda3/lib/python3.8/site-packages/scipy/optimize/optimize.py:1166: RuntimeWarning: divide by zero encountered in double_scalars\n",
      "  rhok = 1.0 / (np.dot(yk, sk))\n",
      "/home/rockl33/anaconda3/lib/python3.8/site-packages/scipy/optimize/optimize.py:1166: RuntimeWarning: divide by zero encountered in double_scalars\n",
      "  rhok = 1.0 / (np.dot(yk, sk))\n",
      "/home/rockl33/anaconda3/lib/python3.8/site-packages/scipy/optimize/optimize.py:1166: RuntimeWarning: divide by zero encountered in double_scalars\n",
      "  rhok = 1.0 / (np.dot(yk, sk))\n",
      "/home/rockl33/anaconda3/lib/python3.8/site-packages/scipy/optimize/optimize.py:1166: RuntimeWarning: divide by zero encountered in double_scalars\n",
      "  rhok = 1.0 / (np.dot(yk, sk))\n",
      "/home/rockl33/anaconda3/lib/python3.8/site-packages/scipy/optimize/optimize.py:1166: RuntimeWarning: divide by zero encountered in double_scalars\n",
      "  rhok = 1.0 / (np.dot(yk, sk))\n",
      "/home/rockl33/anaconda3/lib/python3.8/site-packages/scipy/optimize/optimize.py:1166: RuntimeWarning: divide by zero encountered in double_scalars\n",
      "  rhok = 1.0 / (np.dot(yk, sk))\n",
      "/home/rockl33/anaconda3/lib/python3.8/site-packages/scipy/optimize/optimize.py:1166: RuntimeWarning: divide by zero encountered in double_scalars\n",
      "  rhok = 1.0 / (np.dot(yk, sk))\n",
      " 78%|███████▊  | 21/27 [11:39<04:15, 42.65s/it]/home/rockl33/anaconda3/lib/python3.8/site-packages/scipy/optimize/optimize.py:1166: RuntimeWarning: divide by zero encountered in double_scalars\n",
      "  rhok = 1.0 / (np.dot(yk, sk))\n",
      "/home/rockl33/anaconda3/lib/python3.8/site-packages/scipy/optimize/optimize.py:1166: RuntimeWarning: divide by zero encountered in double_scalars\n",
      "  rhok = 1.0 / (np.dot(yk, sk))\n",
      "/home/rockl33/anaconda3/lib/python3.8/site-packages/scipy/optimize/optimize.py:1166: RuntimeWarning: divide by zero encountered in double_scalars\n",
      "  rhok = 1.0 / (np.dot(yk, sk))\n",
      "/home/rockl33/anaconda3/lib/python3.8/site-packages/scipy/optimize/optimize.py:1166: RuntimeWarning: divide by zero encountered in double_scalars\n",
      "  rhok = 1.0 / (np.dot(yk, sk))\n",
      "/home/rockl33/anaconda3/lib/python3.8/site-packages/scipy/optimize/optimize.py:1166: RuntimeWarning: divide by zero encountered in double_scalars\n",
      "  rhok = 1.0 / (np.dot(yk, sk))\n",
      " 81%|████████▏ | 22/27 [12:25<03:37, 43.57s/it]/home/rockl33/anaconda3/lib/python3.8/site-packages/scipy/optimize/optimize.py:1166: RuntimeWarning: divide by zero encountered in double_scalars\n",
      "  rhok = 1.0 / (np.dot(yk, sk))\n",
      "/home/rockl33/anaconda3/lib/python3.8/site-packages/scipy/optimize/optimize.py:1166: RuntimeWarning: divide by zero encountered in double_scalars\n",
      "  rhok = 1.0 / (np.dot(yk, sk))\n",
      "/home/rockl33/anaconda3/lib/python3.8/site-packages/scipy/optimize/optimize.py:1166: RuntimeWarning: divide by zero encountered in double_scalars\n",
      "  rhok = 1.0 / (np.dot(yk, sk))\n",
      "/home/rockl33/anaconda3/lib/python3.8/site-packages/scipy/optimize/optimize.py:1166: RuntimeWarning: divide by zero encountered in double_scalars\n",
      "  rhok = 1.0 / (np.dot(yk, sk))\n",
      "/home/rockl33/anaconda3/lib/python3.8/site-packages/scipy/optimize/optimize.py:1166: RuntimeWarning: divide by zero encountered in double_scalars\n",
      "  rhok = 1.0 / (np.dot(yk, sk))\n",
      "/home/rockl33/anaconda3/lib/python3.8/site-packages/scipy/optimize/optimize.py:1166: RuntimeWarning: divide by zero encountered in double_scalars\n",
      "  rhok = 1.0 / (np.dot(yk, sk))\n",
      "/home/rockl33/anaconda3/lib/python3.8/site-packages/scipy/optimize/optimize.py:1166: RuntimeWarning: divide by zero encountered in double_scalars\n",
      "  rhok = 1.0 / (np.dot(yk, sk))\n",
      "/home/rockl33/anaconda3/lib/python3.8/site-packages/scipy/optimize/optimize.py:1166: RuntimeWarning: divide by zero encountered in double_scalars\n",
      "  rhok = 1.0 / (np.dot(yk, sk))\n",
      "/home/rockl33/anaconda3/lib/python3.8/site-packages/scipy/optimize/optimize.py:1166: RuntimeWarning: divide by zero encountered in double_scalars\n",
      "  rhok = 1.0 / (np.dot(yk, sk))\n",
      "/home/rockl33/anaconda3/lib/python3.8/site-packages/scipy/optimize/optimize.py:1166: RuntimeWarning: divide by zero encountered in double_scalars\n",
      "  rhok = 1.0 / (np.dot(yk, sk))\n",
      "/home/rockl33/anaconda3/lib/python3.8/site-packages/scipy/optimize/optimize.py:1166: RuntimeWarning: divide by zero encountered in double_scalars\n",
      "  rhok = 1.0 / (np.dot(yk, sk))\n",
      " 85%|████████▌ | 23/27 [13:23<03:11, 47.85s/it]/home/rockl33/anaconda3/lib/python3.8/site-packages/scipy/optimize/optimize.py:1166: RuntimeWarning: divide by zero encountered in double_scalars\n",
      "  rhok = 1.0 / (np.dot(yk, sk))\n",
      "/home/rockl33/anaconda3/lib/python3.8/site-packages/scipy/optimize/optimize.py:1166: RuntimeWarning: divide by zero encountered in double_scalars\n",
      "  rhok = 1.0 / (np.dot(yk, sk))\n",
      "/home/rockl33/anaconda3/lib/python3.8/site-packages/scipy/optimize/optimize.py:1166: RuntimeWarning: divide by zero encountered in double_scalars\n",
      "  rhok = 1.0 / (np.dot(yk, sk))\n",
      "/home/rockl33/anaconda3/lib/python3.8/site-packages/scipy/optimize/optimize.py:1166: RuntimeWarning: divide by zero encountered in double_scalars\n",
      "  rhok = 1.0 / (np.dot(yk, sk))\n",
      "/home/rockl33/anaconda3/lib/python3.8/site-packages/scipy/optimize/optimize.py:1166: RuntimeWarning: divide by zero encountered in double_scalars\n",
      "  rhok = 1.0 / (np.dot(yk, sk))\n",
      "/home/rockl33/anaconda3/lib/python3.8/site-packages/scipy/optimize/optimize.py:1166: RuntimeWarning: divide by zero encountered in double_scalars\n",
      "  rhok = 1.0 / (np.dot(yk, sk))\n",
      " 89%|████████▉ | 24/27 [14:13<02:25, 48.46s/it]/home/rockl33/anaconda3/lib/python3.8/site-packages/scipy/optimize/optimize.py:1166: RuntimeWarning: divide by zero encountered in double_scalars\n",
      "  rhok = 1.0 / (np.dot(yk, sk))\n",
      "/home/rockl33/anaconda3/lib/python3.8/site-packages/scipy/optimize/optimize.py:1166: RuntimeWarning: divide by zero encountered in double_scalars\n",
      "  rhok = 1.0 / (np.dot(yk, sk))\n",
      "/home/rockl33/anaconda3/lib/python3.8/site-packages/scipy/optimize/optimize.py:1166: RuntimeWarning: divide by zero encountered in double_scalars\n",
      "  rhok = 1.0 / (np.dot(yk, sk))\n",
      "/home/rockl33/anaconda3/lib/python3.8/site-packages/scipy/optimize/optimize.py:1166: RuntimeWarning: divide by zero encountered in double_scalars\n",
      "  rhok = 1.0 / (np.dot(yk, sk))\n",
      "/home/rockl33/anaconda3/lib/python3.8/site-packages/scipy/optimize/optimize.py:1166: RuntimeWarning: divide by zero encountered in double_scalars\n",
      "  rhok = 1.0 / (np.dot(yk, sk))\n",
      "/home/rockl33/anaconda3/lib/python3.8/site-packages/scipy/optimize/optimize.py:1166: RuntimeWarning: divide by zero encountered in double_scalars\n",
      "  rhok = 1.0 / (np.dot(yk, sk))\n",
      "/home/rockl33/anaconda3/lib/python3.8/site-packages/scipy/optimize/optimize.py:1166: RuntimeWarning: divide by zero encountered in double_scalars\n",
      "  rhok = 1.0 / (np.dot(yk, sk))\n",
      "/home/rockl33/anaconda3/lib/python3.8/site-packages/scipy/optimize/optimize.py:1166: RuntimeWarning: divide by zero encountered in double_scalars\n",
      "  rhok = 1.0 / (np.dot(yk, sk))\n",
      "/home/rockl33/anaconda3/lib/python3.8/site-packages/scipy/optimize/optimize.py:1166: RuntimeWarning: divide by zero encountered in double_scalars\n",
      "  rhok = 1.0 / (np.dot(yk, sk))\n",
      "/home/rockl33/anaconda3/lib/python3.8/site-packages/scipy/optimize/optimize.py:1166: RuntimeWarning: divide by zero encountered in double_scalars\n",
      "  rhok = 1.0 / (np.dot(yk, sk))\n",
      "/home/rockl33/anaconda3/lib/python3.8/site-packages/scipy/optimize/optimize.py:1166: RuntimeWarning: divide by zero encountered in double_scalars\n",
      "  rhok = 1.0 / (np.dot(yk, sk))\n",
      "/home/rockl33/anaconda3/lib/python3.8/site-packages/scipy/optimize/optimize.py:1166: RuntimeWarning: divide by zero encountered in double_scalars\n",
      "  rhok = 1.0 / (np.dot(yk, sk))\n",
      " 93%|█████████▎| 25/27 [15:05<01:39, 49.59s/it]/home/rockl33/anaconda3/lib/python3.8/site-packages/scipy/optimize/optimize.py:1166: RuntimeWarning: divide by zero encountered in double_scalars\n",
      "  rhok = 1.0 / (np.dot(yk, sk))\n",
      "/home/rockl33/anaconda3/lib/python3.8/site-packages/scipy/optimize/optimize.py:1166: RuntimeWarning: divide by zero encountered in double_scalars\n",
      "  rhok = 1.0 / (np.dot(yk, sk))\n",
      "/home/rockl33/anaconda3/lib/python3.8/site-packages/scipy/optimize/optimize.py:1166: RuntimeWarning: divide by zero encountered in double_scalars\n",
      "  rhok = 1.0 / (np.dot(yk, sk))\n",
      "/home/rockl33/anaconda3/lib/python3.8/site-packages/scipy/optimize/optimize.py:1166: RuntimeWarning: divide by zero encountered in double_scalars\n",
      "  rhok = 1.0 / (np.dot(yk, sk))\n",
      "/home/rockl33/anaconda3/lib/python3.8/site-packages/scipy/optimize/optimize.py:1166: RuntimeWarning: divide by zero encountered in double_scalars\n",
      "  rhok = 1.0 / (np.dot(yk, sk))\n",
      "/home/rockl33/anaconda3/lib/python3.8/site-packages/scipy/optimize/optimize.py:1166: RuntimeWarning: divide by zero encountered in double_scalars\n",
      "  rhok = 1.0 / (np.dot(yk, sk))\n",
      "/home/rockl33/anaconda3/lib/python3.8/site-packages/scipy/optimize/optimize.py:1166: RuntimeWarning: divide by zero encountered in double_scalars\n",
      "  rhok = 1.0 / (np.dot(yk, sk))\n",
      "/home/rockl33/anaconda3/lib/python3.8/site-packages/scipy/optimize/optimize.py:1166: RuntimeWarning: divide by zero encountered in double_scalars\n",
      "  rhok = 1.0 / (np.dot(yk, sk))\n",
      "/home/rockl33/anaconda3/lib/python3.8/site-packages/scipy/optimize/optimize.py:1166: RuntimeWarning: divide by zero encountered in double_scalars\n",
      "  rhok = 1.0 / (np.dot(yk, sk))\n",
      "/home/rockl33/anaconda3/lib/python3.8/site-packages/scipy/optimize/optimize.py:1166: RuntimeWarning: divide by zero encountered in double_scalars\n",
      "  rhok = 1.0 / (np.dot(yk, sk))\n",
      "/home/rockl33/anaconda3/lib/python3.8/site-packages/scipy/optimize/optimize.py:1166: RuntimeWarning: divide by zero encountered in double_scalars\n",
      "  rhok = 1.0 / (np.dot(yk, sk))\n",
      "/home/rockl33/anaconda3/lib/python3.8/site-packages/scipy/optimize/optimize.py:1166: RuntimeWarning: divide by zero encountered in double_scalars\n",
      "  rhok = 1.0 / (np.dot(yk, sk))\n",
      "/home/rockl33/anaconda3/lib/python3.8/site-packages/scipy/optimize/optimize.py:1166: RuntimeWarning: divide by zero encountered in double_scalars\n",
      "  rhok = 1.0 / (np.dot(yk, sk))\n",
      "/home/rockl33/anaconda3/lib/python3.8/site-packages/scipy/optimize/optimize.py:1166: RuntimeWarning: divide by zero encountered in double_scalars\n",
      "  rhok = 1.0 / (np.dot(yk, sk))\n",
      "/home/rockl33/anaconda3/lib/python3.8/site-packages/scipy/optimize/optimize.py:1166: RuntimeWarning: divide by zero encountered in double_scalars\n",
      "  rhok = 1.0 / (np.dot(yk, sk))\n",
      " 96%|█████████▋| 26/27 [15:49<00:47, 47.79s/it]/home/rockl33/anaconda3/lib/python3.8/site-packages/scipy/optimize/optimize.py:1166: RuntimeWarning: divide by zero encountered in double_scalars\n",
      "  rhok = 1.0 / (np.dot(yk, sk))\n",
      "/home/rockl33/anaconda3/lib/python3.8/site-packages/scipy/optimize/optimize.py:1166: RuntimeWarning: divide by zero encountered in double_scalars\n",
      "  rhok = 1.0 / (np.dot(yk, sk))\n",
      "/home/rockl33/anaconda3/lib/python3.8/site-packages/scipy/optimize/optimize.py:1166: RuntimeWarning: divide by zero encountered in double_scalars\n",
      "  rhok = 1.0 / (np.dot(yk, sk))\n",
      "/home/rockl33/anaconda3/lib/python3.8/site-packages/scipy/optimize/optimize.py:1166: RuntimeWarning: divide by zero encountered in double_scalars\n",
      "  rhok = 1.0 / (np.dot(yk, sk))\n",
      "/home/rockl33/anaconda3/lib/python3.8/site-packages/scipy/optimize/optimize.py:1166: RuntimeWarning: divide by zero encountered in double_scalars\n",
      "  rhok = 1.0 / (np.dot(yk, sk))\n",
      "100%|██████████| 27/27 [16:37<00:00, 36.95s/it]\n"
     ]
    }
   ],
   "source": [
    "for i in tqdm(range(n_images)):\n",
    "    for ik, x1 in enumerate(KP[i]):\n",
    "        for j in range(n_images):\n",
    "            if j != i:\n",
    "                x2 = stereo.find_x2(x1, F[i,j], images[i], images[j], kernel_size=[20,20])\n",
    "                if x2 is not None:\n",
    "                    X = get_X(P[i], P[j], x1, x2)\n",
    "                    X_candidates[i][ik][j] = X[:-1]"
   ]
  },
  {
   "cell_type": "code",
   "execution_count": 16,
   "metadata": {},
   "outputs": [],
   "source": [
    "X_candidates.resize((n_images*n_keypoints, n_images, 3))"
   ]
  },
  {
   "cell_type": "code",
   "execution_count": 17,
   "metadata": {},
   "outputs": [],
   "source": [
    "X_list = []\n",
    "\n",
    "for candidates in X_candidates:\n",
    "    candidates = np.array([c for c in candidates if np.sum(c) != 0])\n",
    "    if len(candidates) > 0:\n",
    "        X_list.append(select_X(candidates))\n",
    "    \n",
    "X_list = np.array(X_list)"
   ]
  },
  {
   "cell_type": "code",
   "execution_count": 20,
   "metadata": {},
   "outputs": [
    {
     "data": {
      "application/vnd.jupyter.widget-view+json": {
       "model_id": "5af8895d340d43889e6dc1f55dcef7a5",
       "version_major": 2,
       "version_minor": 0
      },
      "text/plain": [
       "Canvas(toolbar=Toolbar(toolitems=[('Home', 'Reset original view', 'home', 'home'), ('Back', 'Back to previous …"
      ]
     },
     "metadata": {},
     "output_type": "display_data"
    },
    {
     "data": {
      "text/plain": [
       "<mpl_toolkits.mplot3d.art3d.Path3DCollection at 0x7f409c6c26d0>"
      ]
     },
     "execution_count": 20,
     "metadata": {},
     "output_type": "execute_result"
    }
   ],
   "source": [
    "#%matplotlib inline \n",
    "%matplotlib widget\n",
    "fig = plt.figure()\n",
    "ax = Axes3D(fig)\n",
    "\n",
    "X_list = np.array(X_list)\n",
    "ax.scatter(X_list[:,0], X_list[:,1], X_list[:,2])"
   ]
  },
  {
   "cell_type": "code",
   "execution_count": 19,
   "metadata": {},
   "outputs": [
    {
     "data": {
      "text/plain": [
       "<mpl_toolkits.mplot3d.art3d.Poly3DCollection at 0x7f409d19c2e0>"
      ]
     },
     "execution_count": 19,
     "metadata": {},
     "output_type": "execute_result"
    }
   ],
   "source": [
    "ax.plot_trisurf(X_list[:,0], X_list[:,1], X_list[:,2])"
   ]
  },
  {
   "cell_type": "code",
   "execution_count": null,
   "metadata": {},
   "outputs": [],
   "source": []
  }
 ],
 "metadata": {
  "kernelspec": {
   "display_name": "Python 3",
   "language": "python",
   "name": "python3"
  },
  "language_info": {
   "codemirror_mode": {
    "name": "ipython",
    "version": 3
   },
   "file_extension": ".py",
   "mimetype": "text/x-python",
   "name": "python",
   "nbconvert_exporter": "python",
   "pygments_lexer": "ipython3",
   "version": "3.8.3"
  }
 },
 "nbformat": 4,
 "nbformat_minor": 4
}
