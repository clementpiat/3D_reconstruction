{
 "cells": [
  {
   "cell_type": "code",
   "execution_count": null,
   "metadata": {},
   "outputs": [],
   "source": [
    "X = np.array([10,0,0,1])\n",
    "\n",
    "#plt.imshow(img1)\n",
    "#scatter(P1 @ X)\n",
    "#plt.show()\n",
    "\n",
    "plot_epipolar_line(img1, F.T @ P2 @ X, show=False)\n",
    "scatter(P1 @ X)\n",
    "plt.show()\n",
    "\n",
    "#plt.imshow(img2)\n",
    "plot_epipolar_line(img2, F @ P1 @ X, show=False)\n",
    "scatter(P2 @ X)\n",
    "plt.show()"
   ]
  },
  {
   "cell_type": "code",
   "execution_count": null,
   "metadata": {},
   "outputs": [],
   "source": [
    "X1 = np.concatenate((np.linalg.inv(P1[:,:3]) @ x, np.array([0])))"
   ]
  },
  {
   "cell_type": "code",
   "execution_count": null,
   "metadata": {},
   "outputs": [],
   "source": [
    "X2 = np.concatenate((np.linalg.inv(P1[:,:3]) @ (x - P1[:,-1]), np.array([1])))"
   ]
  }
 ],
 "metadata": {
  "kernelspec": {
   "display_name": "Python 3",
   "language": "python",
   "name": "python3"
  },
  "language_info": {
   "codemirror_mode": {
    "name": "ipython",
    "version": 3
   },
   "file_extension": ".py",
   "mimetype": "text/x-python",
   "name": "python",
   "nbconvert_exporter": "python",
   "pygments_lexer": "ipython3",
   "version": "3.7.6"
  }
 },
 "nbformat": 4,
 "nbformat_minor": 4
}
