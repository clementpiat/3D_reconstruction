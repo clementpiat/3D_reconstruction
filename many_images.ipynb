{
 "cells": [
  {
   "cell_type": "code",
   "execution_count": 1,
   "metadata": {},
   "outputs": [],
   "source": [
    "import numpy as np\n",
    "from sklearn.metrics import pairwise_distances\n",
    "import matplotlib.pyplot as plt\n",
    "from mpl_toolkits.mplot3d import Axes3D\n",
    "import matplotlib.pyplot as plt\n",
    "from tqdm import tqdm\n",
    "import seaborn as sns\n",
    "from collections import defaultdict\n",
    "import json\n",
    "from time import time\n",
    "\n",
    "from reconstruct import get_SIFT_keypoints, get_X\n",
    "from utils import read, compute_F, is_inside\n",
    "from stereo import Stereo"
   ]
  },
  {
   "cell_type": "markdown",
   "metadata": {},
   "source": [
    "# Stereo reconstruction using multiple images"
   ]
  },
  {
   "cell_type": "code",
   "execution_count": 2,
   "metadata": {},
   "outputs": [],
   "source": [
    "images_number = [i for i in range(21)]\n",
    "n_images = len(images_number)"
   ]
  },
  {
   "cell_type": "code",
   "execution_count": 3,
   "metadata": {},
   "outputs": [],
   "source": [
    "images, P, silhouettes = zip(*[read(number) for number in images_number])"
   ]
  },
  {
   "cell_type": "code",
   "execution_count": 4,
   "metadata": {},
   "outputs": [],
   "source": [
    "P = np.array(P)\n",
    "silhouettes = np.array(silhouettes)"
   ]
  },
  {
   "cell_type": "code",
   "execution_count": 5,
   "metadata": {},
   "outputs": [],
   "source": [
    "F = np.zeros((n_images, n_images, 3, 3))"
   ]
  },
  {
   "cell_type": "code",
   "execution_count": 6,
   "metadata": {},
   "outputs": [],
   "source": [
    "for i in range(n_images):\n",
    "    for j in range(i+1, n_images):\n",
    "        f = compute_F(P[i], P[j])\n",
    "        F[i,j] = f\n",
    "        F[j,i] = f"
   ]
  },
  {
   "cell_type": "code",
   "execution_count": 7,
   "metadata": {},
   "outputs": [],
   "source": [
    "n_keypoints = 40"
   ]
  },
  {
   "cell_type": "code",
   "execution_count": 8,
   "metadata": {},
   "outputs": [],
   "source": [
    "kps = get_SIFT_keypoints(images[0], silhouettes[0], n_keypoints)"
   ]
  },
  {
   "cell_type": "code",
   "execution_count": 9,
   "metadata": {},
   "outputs": [],
   "source": [
    "KP = np.zeros((n_images, n_keypoints, 3))"
   ]
  },
  {
   "cell_type": "code",
   "execution_count": 10,
   "metadata": {},
   "outputs": [],
   "source": [
    "for i, (image, silhouette) in enumerate(zip(images, silhouettes)):\n",
    "    KP[i] = get_SIFT_keypoints(image, silhouette, n_keypoints_min=n_keypoints)[:n_keypoints]"
   ]
  },
  {
   "cell_type": "code",
   "execution_count": 11,
   "metadata": {},
   "outputs": [],
   "source": [
    "stereo = Stereo(silhouettes.shape[2], silhouettes.shape[1])"
   ]
  },
  {
   "cell_type": "markdown",
   "metadata": {},
   "source": [
    "You can reconstruct 3D-points with the following cell, or load results bellow"
   ]
  },
  {
   "cell_type": "code",
   "execution_count": null,
   "metadata": {},
   "outputs": [],
   "source": [
    "X_candidates = defaultdict(list)\n",
    "\n",
    "ngh_threshold = 4\n",
    "\n",
    "for i in tqdm(range(n_images)):\n",
    "    for ik, x1 in enumerate(KP[i]):\n",
    "        for j in range(n_images):\n",
    "            if j != i and np.abs(j-i) <= ngh_threshold:\n",
    "                x2 = stereo.find_x2(x1, F[i,j], images[i], images[j], kernel_size=[20,20])\n",
    "                if (x2 is not None) and is_inside(x2, silhouettes[j]):\n",
    "                    X_candidates[f\"{i}_{ik}\"].append(get_X(P[i], P[j], x1, x2))\n",
    "                    \n",
    "for k, v in X_candidates.items():\n",
    "    X_candidates[k] = np.array(v)"
   ]
  },
  {
   "cell_type": "code",
   "execution_count": null,
   "metadata": {},
   "outputs": [],
   "source": [
    "filename = f'X_candidates_{time()}.json'"
   ]
  },
  {
   "cell_type": "code",
   "execution_count": null,
   "metadata": {},
   "outputs": [],
   "source": [
    "'''\n",
    "x = defaultdict(list)\n",
    "for k, v in X_candidates.items():\n",
    "    x[k] = v.tolist()\n",
    "\n",
    "with open(filename, 'w') as f:\n",
    "    json.dump(x, f, indent=4)\n",
    "'''"
   ]
  },
  {
   "cell_type": "markdown",
   "metadata": {},
   "source": [
    "Load saved results"
   ]
  },
  {
   "cell_type": "code",
   "execution_count": 12,
   "metadata": {},
   "outputs": [],
   "source": [
    "with open('X_candidates.json') as f:\n",
    "    X_candidates = json.load(f)\n",
    "for k, v in X_candidates.items():\n",
    "    X_candidates[k] = np.array(v)"
   ]
  },
  {
   "cell_type": "code",
   "execution_count": 13,
   "metadata": {},
   "outputs": [],
   "source": [
    "distances = []\n",
    "for candidates in X_candidates.values():\n",
    "    if len(candidates) >= 2:\n",
    "        pd = pairwise_distances(candidates)\n",
    "        for i in range(len(pd)):\n",
    "            for j in range(i+1, len(pd)):\n",
    "                distances.append(pd[i,j])\n",
    "distances = np.array(distances)"
   ]
  },
  {
   "cell_type": "code",
   "execution_count": 14,
   "metadata": {},
   "outputs": [
    {
     "data": {
      "image/png": "[encoded data removed]",
      "text/plain": [
       "<Figure size 432x288 with 1 Axes>"
      ]
     },
     "metadata": {
      "needs_background": "light"
     },
     "output_type": "display_data"
    }
   ],
   "source": [
    "sns.distplot(distances.clip(0,50))\n",
    "plt.xlabel(\"Distance between two reconstructed points\")\n",
    "plt.ylabel(\"Density\")\n",
    "plt.title(\"Density of distances between two reconstructed points\")\n",
    "plt.savefig(\"distances_density.png\")\n",
    "plt.show()"
   ]
  },
  {
   "cell_type": "code",
   "execution_count": 15,
   "metadata": {},
   "outputs": [],
   "source": [
    "def select_X(candidates, th=5):\n",
    "    pd = pairwise_distances(candidates)\n",
    "    pd[pd > th] = th\n",
    "    pd[pd == 0] = th\n",
    "    if not (pd < th).any():\n",
    "        return None\n",
    "    \n",
    "    return candidates[np.argmin(pd.mean(axis=1))]"
   ]
  },
  {
   "cell_type": "code",
   "execution_count": 16,
   "metadata": {},
   "outputs": [],
   "source": [
    "X_list = []\n",
    "\n",
    "for candidates in X_candidates.values():\n",
    "    if len(candidates) > 2:\n",
    "        X = select_X(candidates, th=3)\n",
    "        if X is not None:\n",
    "            X_list.append(X)\n",
    "    \n",
    "X_list = np.array(X_list)"
   ]
  },
  {
   "cell_type": "markdown",
   "metadata": {},
   "source": [
    "# These are the results BEFORE removing outliers (please see vizualisation notebook)"
   ]
  },
  {
   "cell_type": "code",
   "execution_count": 18,
   "metadata": {},
   "outputs": [
    {
     "data": {
      "application/vnd.jupyter.widget-view+json": {
       "model_id": "dbd57586c2cf43e3b821014c80e3a9b2",
       "version_major": 2,
       "version_minor": 0
      },
      "text/plain": [
       "Canvas(toolbar=Toolbar(toolitems=[('Home', 'Reset original view', 'home', 'home'), ('Back', 'Back to previous …"
      ]
     },
     "metadata": {},
     "output_type": "display_data"
    }
   ],
   "source": [
    "#%matplotlib inline \n",
    "%matplotlib widget\n",
    "fig = plt.figure()\n",
    "ax = Axes3D(fig)\n",
    "\n",
    "X_list = np.array(X_list)\n",
    "ax.scatter(X_list[:,0], X_list[:,1], X_list[:,2])\n",
    "plt.show()"
   ]
  },
  {
   "cell_type": "code",
   "execution_count": null,
   "metadata": {},
   "outputs": [],
   "source": []
  }
 ],
 "metadata": {
  "kernelspec": {
   "display_name": "Python 3",
   "language": "python",
   "name": "python3"
  },
  "language_info": {
   "codemirror_mode": {
    "name": "ipython",
    "version": 3
   },
   "file_extension": ".py",
   "mimetype": "text/x-python",
   "name": "python",
   "nbconvert_exporter": "python",
   "pygments_lexer": "ipython3",
   "version": "3.7.6"
  }
 },
 "nbformat": 4,
 "nbformat_minor": 4
}
